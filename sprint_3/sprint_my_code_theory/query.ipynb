{
 "cells": [
  {
   "cell_type": "markdown",
   "metadata": {},
   "source": [
    "## Срезы строк"
   ]
  },
  {
   "cell_type": "markdown",
   "metadata": {},
   "source": [
    "### срез строк можно сделать, как передачу массива с булевыми значениями в df"
   ]
  },
  {
   "cell_type": "code",
   "execution_count": 1,
   "metadata": {},
   "outputs": [],
   "source": [
    "import pandas as pd"
   ]
  },
  {
   "cell_type": "code",
   "execution_count": 2,
   "metadata": {},
   "outputs": [],
   "source": [
    "df = pd.DataFrame({'name' : ['Kola', 'Tola', 'Rola'], 'age' : [12, 34, 5]})"
   ]
  },
  {
   "cell_type": "code",
   "execution_count": 4,
   "metadata": {},
   "outputs": [
    {
     "data": {
      "text/html": [
       "<div>\n",
       "<style scoped>\n",
       "    .dataframe tbody tr th:only-of-type {\n",
       "        vertical-align: middle;\n",
       "    }\n",
       "\n",
       "    .dataframe tbody tr th {\n",
       "        vertical-align: top;\n",
       "    }\n",
       "\n",
       "    .dataframe thead th {\n",
       "        text-align: right;\n",
       "    }\n",
       "</style>\n",
       "<table border=\"1\" class=\"dataframe\">\n",
       "  <thead>\n",
       "    <tr style=\"text-align: right;\">\n",
       "      <th></th>\n",
       "      <th>name</th>\n",
       "      <th>age</th>\n",
       "    </tr>\n",
       "  </thead>\n",
       "  <tbody>\n",
       "    <tr>\n",
       "      <th>0</th>\n",
       "      <td>Kola</td>\n",
       "      <td>12</td>\n",
       "    </tr>\n",
       "    <tr>\n",
       "      <th>2</th>\n",
       "      <td>Rola</td>\n",
       "      <td>5</td>\n",
       "    </tr>\n",
       "  </tbody>\n",
       "</table>\n",
       "</div>"
      ],
      "text/plain": [
       "   name  age\n",
       "0  Kola   12\n",
       "2  Rola    5"
      ]
     },
     "execution_count": 4,
     "metadata": {},
     "output_type": "execute_result"
    }
   ],
   "source": [
    "bool_val = [True, False, True]\n",
    "df[bool_val]"
   ]
  },
  {
   "cell_type": "markdown",
   "metadata": {},
   "source": [
    "### Так же можно делать срезы методом query()"
   ]
  },
  {
   "cell_type": "code",
   "execution_count": 5,
   "metadata": {},
   "outputs": [
    {
     "name": "stdout",
     "output_type": "stream",
     "text": [
      "             From         To  Is_Direct  Has_luggage  Price   Date_From  \\\n",
      "3  St. Petersburg  Barcelona      False         True  20168  03.07.2019   \n",
      "4  St. Petersburg  Barcelona       True        False  31425  05.07.2019   \n",
      "\n",
      "      Date_To  Airline  Travel_time_from  Travel_time_to  \n",
      "3  09.07.2019    Swiss               365             355  \n",
      "4  11.07.2019  Rossiya               255             250  \n"
     ]
    }
   ],
   "source": [
    "df = pd.DataFrame(\n",
    "    {\n",
    "        'From': [\n",
    "            'Moscow',\n",
    "            'Moscow',\n",
    "            'St. Petersburg',\n",
    "            'St. Petersburg',\n",
    "            'St. Petersburg',\n",
    "        ],\n",
    "        'To': ['Rome', 'Rome', 'Rome', 'Barcelona', 'Barcelona'],\n",
    "        'Is_Direct': [False, True, False, False, True],\n",
    "        'Has_luggage': [True, False, False, True, False],\n",
    "        'Price': [21032, 19250, 19301, 20168, 31425],\n",
    "        'Date_From': [\n",
    "            '01.07.19',\n",
    "            '01.07.19',\n",
    "            '04.07.2019',\n",
    "            '03.07.2019',\n",
    "            '05.07.2019',\n",
    "        ],\n",
    "        'Date_To': [\n",
    "            '07.07.19',\n",
    "            '07.07.19',\n",
    "            '10.07.2019',\n",
    "            '09.07.2019',\n",
    "            '11.07.2019',\n",
    "        ],\n",
    "        'Airline': ['Belavia', 'S7', 'Finnair', 'Swiss', 'Rossiya'],\n",
    "        'Travel_time_from': [995, 230, 605, 365, 255],\n",
    "        'Travel_time_to': [350, 225, 720, 355, 250],\n",
    "    }\n",
    ")\n",
    "print(df.query('To == \"Barcelona\"')) "
   ]
  },
  {
   "cell_type": "code",
   "execution_count": 6,
   "metadata": {},
   "outputs": [
    {
     "name": "stdout",
     "output_type": "stream",
     "text": [
      "             From         To  Is_Direct  Has_luggage  Price   Date_From  \\\n",
      "0          Moscow       Rome      False         True  21032    01.07.19   \n",
      "1          Moscow       Rome       True        False  19250    01.07.19   \n",
      "3  St. Petersburg  Barcelona      False         True  20168  03.07.2019   \n",
      "4  St. Petersburg  Barcelona       True        False  31425  05.07.2019   \n",
      "\n",
      "      Date_To  Airline  Travel_time_from  Travel_time_to  \n",
      "0    07.07.19  Belavia               995             350  \n",
      "1    07.07.19       S7               230             225  \n",
      "3  09.07.2019    Swiss               365             355  \n",
      "4  11.07.2019  Rossiya               255             250  \n"
     ]
    }
   ],
   "source": [
    "print(df.query('Is_Direct == True or Has_luggage == True')) "
   ]
  },
  {
   "cell_type": "code",
   "execution_count": 8,
   "metadata": {},
   "outputs": [],
   "source": [
    "df = pd.DataFrame(\n",
    "    {\n",
    "        'From': [\n",
    "            'Moscow',\n",
    "            'Moscow',\n",
    "            'St. Petersburg',\n",
    "            'St. Petersburg',\n",
    "            'St. Petersburg',\n",
    "        ],\n",
    "        'To': ['Rome', 'Rome', 'Rome', 'Barcelona', 'Barcelona'],\n",
    "        'Is_Direct': [False, True, False, False, True],\n",
    "        'Has_luggage': [True, False, False, True, False],\n",
    "        'Price': [21032, 19250, 19301, 20168, 31425],\n",
    "        'Date_From': [\n",
    "            '01.07.19',\n",
    "            '01.07.19',\n",
    "            '04.07.2019',\n",
    "            '03.07.2019',\n",
    "            '05.07.2019',\n",
    "        ],\n",
    "        'Date_To': [\n",
    "            '07.07.19',\n",
    "            '07.07.19',\n",
    "            '10.07.2019',\n",
    "            '09.07.2019',\n",
    "            '11.07.2019',\n",
    "        ],\n",
    "        'Airline': ['Belavia', 'S7', 'Finnair', 'Swiss', 'Rossiya'],\n",
    "        'Travel_time_from': [995, 230, 605, 365, 255],\n",
    "        'Travel_time_to': [350, 225, 720, 355, 250],\n",
    "    }\n",
    ")\n"
   ]
  },
  {
   "cell_type": "code",
   "execution_count": 21,
   "metadata": {},
   "outputs": [
    {
     "data": {
      "text/html": [
       "<div>\n",
       "<style scoped>\n",
       "    .dataframe tbody tr th:only-of-type {\n",
       "        vertical-align: middle;\n",
       "    }\n",
       "\n",
       "    .dataframe tbody tr th {\n",
       "        vertical-align: top;\n",
       "    }\n",
       "\n",
       "    .dataframe thead th {\n",
       "        text-align: right;\n",
       "    }\n",
       "</style>\n",
       "<table border=\"1\" class=\"dataframe\">\n",
       "  <thead>\n",
       "    <tr style=\"text-align: right;\">\n",
       "      <th></th>\n",
       "      <th>From</th>\n",
       "      <th>To</th>\n",
       "      <th>Is_Direct</th>\n",
       "      <th>Has_luggage</th>\n",
       "      <th>Price</th>\n",
       "      <th>Date_From</th>\n",
       "      <th>Date_To</th>\n",
       "      <th>Airline</th>\n",
       "      <th>Travel_time_from</th>\n",
       "      <th>Travel_time_to</th>\n",
       "    </tr>\n",
       "  </thead>\n",
       "  <tbody>\n",
       "    <tr>\n",
       "      <th>2</th>\n",
       "      <td>St. Petersburg</td>\n",
       "      <td>Rome</td>\n",
       "      <td>False</td>\n",
       "      <td>False</td>\n",
       "      <td>19301</td>\n",
       "      <td>04.07.2019</td>\n",
       "      <td>10.07.2019</td>\n",
       "      <td>Finnair</td>\n",
       "      <td>605</td>\n",
       "      <td>720</td>\n",
       "    </tr>\n",
       "  </tbody>\n",
       "</table>\n",
       "</div>"
      ],
      "text/plain": [
       "             From    To  Is_Direct  Has_luggage  Price   Date_From  \\\n",
       "2  St. Petersburg  Rome      False        False  19301  04.07.2019   \n",
       "\n",
       "      Date_To  Airline  Travel_time_from  Travel_time_to  \n",
       "2  10.07.2019  Finnair               605             720  "
      ]
     },
     "execution_count": 21,
     "metadata": {},
     "output_type": "execute_result"
    }
   ],
   "source": [
    "df.query('Has_luggage == False and Airline not in (\"S7\", \"Rossiya\")')"
   ]
  },
  {
   "cell_type": "code",
   "execution_count": 22,
   "metadata": {},
   "outputs": [
    {
     "data": {
      "text/html": [
       "<div>\n",
       "<style scoped>\n",
       "    .dataframe tbody tr th:only-of-type {\n",
       "        vertical-align: middle;\n",
       "    }\n",
       "\n",
       "    .dataframe tbody tr th {\n",
       "        vertical-align: top;\n",
       "    }\n",
       "\n",
       "    .dataframe thead th {\n",
       "        text-align: right;\n",
       "    }\n",
       "</style>\n",
       "<table border=\"1\" class=\"dataframe\">\n",
       "  <thead>\n",
       "    <tr style=\"text-align: right;\">\n",
       "      <th></th>\n",
       "      <th>From</th>\n",
       "      <th>To</th>\n",
       "      <th>Is_Direct</th>\n",
       "      <th>Has_luggage</th>\n",
       "      <th>Price</th>\n",
       "      <th>Date_From</th>\n",
       "      <th>Date_To</th>\n",
       "      <th>Airline</th>\n",
       "      <th>Travel_time_from</th>\n",
       "      <th>Travel_time_to</th>\n",
       "    </tr>\n",
       "  </thead>\n",
       "  <tbody>\n",
       "    <tr>\n",
       "      <th>1</th>\n",
       "      <td>Moscow</td>\n",
       "      <td>Rome</td>\n",
       "      <td>True</td>\n",
       "      <td>False</td>\n",
       "      <td>19250</td>\n",
       "      <td>01.07.19</td>\n",
       "      <td>07.07.19</td>\n",
       "      <td>S7</td>\n",
       "      <td>230</td>\n",
       "      <td>225</td>\n",
       "    </tr>\n",
       "    <tr>\n",
       "      <th>4</th>\n",
       "      <td>St. Petersburg</td>\n",
       "      <td>Barcelona</td>\n",
       "      <td>True</td>\n",
       "      <td>False</td>\n",
       "      <td>31425</td>\n",
       "      <td>05.07.2019</td>\n",
       "      <td>11.07.2019</td>\n",
       "      <td>Rossiya</td>\n",
       "      <td>255</td>\n",
       "      <td>250</td>\n",
       "    </tr>\n",
       "  </tbody>\n",
       "</table>\n",
       "</div>"
      ],
      "text/plain": [
       "             From         To  Is_Direct  Has_luggage  Price   Date_From  \\\n",
       "1          Moscow       Rome       True        False  19250    01.07.19   \n",
       "4  St. Petersburg  Barcelona       True        False  31425  05.07.2019   \n",
       "\n",
       "      Date_To  Airline  Travel_time_from  Travel_time_to  \n",
       "1    07.07.19       S7               230             225  \n",
       "4  11.07.2019  Rossiya               255             250  "
      ]
     },
     "execution_count": 22,
     "metadata": {},
     "output_type": "execute_result"
    }
   ],
   "source": [
    "max_time = 300\n",
    "df.query('Travel_time_from < @max_time and Airline in (\"Belavia\", \"S7\", \"Rossiya\")')"
   ]
  },
  {
   "cell_type": "code",
   "execution_count": 37,
   "metadata": {},
   "outputs": [
    {
     "data": {
      "text/html": [
       "<div>\n",
       "<style scoped>\n",
       "    .dataframe tbody tr th:only-of-type {\n",
       "        vertical-align: middle;\n",
       "    }\n",
       "\n",
       "    .dataframe tbody tr th {\n",
       "        vertical-align: top;\n",
       "    }\n",
       "\n",
       "    .dataframe thead th {\n",
       "        text-align: right;\n",
       "    }\n",
       "</style>\n",
       "<table border=\"1\" class=\"dataframe\">\n",
       "  <thead>\n",
       "    <tr style=\"text-align: right;\">\n",
       "      <th></th>\n",
       "      <th>From</th>\n",
       "      <th>To</th>\n",
       "      <th>Is_Direct</th>\n",
       "      <th>Has_luggage</th>\n",
       "      <th>Price</th>\n",
       "      <th>Date_From</th>\n",
       "      <th>Date_To</th>\n",
       "      <th>Airline</th>\n",
       "      <th>Travel_time_from</th>\n",
       "      <th>Travel_time_to</th>\n",
       "    </tr>\n",
       "  </thead>\n",
       "  <tbody>\n",
       "    <tr>\n",
       "      <th>4</th>\n",
       "      <td>St. Petersburg</td>\n",
       "      <td>Barcelona</td>\n",
       "      <td>True</td>\n",
       "      <td>False</td>\n",
       "      <td>31425</td>\n",
       "      <td>05.07.2019</td>\n",
       "      <td>11.07.2019</td>\n",
       "      <td>Rossiya</td>\n",
       "      <td>255</td>\n",
       "      <td>250</td>\n",
       "    </tr>\n",
       "  </tbody>\n",
       "</table>\n",
       "</div>"
      ],
      "text/plain": [
       "             From         To  Is_Direct  Has_luggage  Price   Date_From  \\\n",
       "4  St. Petersburg  Barcelona       True        False  31425  05.07.2019   \n",
       "\n",
       "      Date_To  Airline  Travel_time_from  Travel_time_to  \n",
       "4  11.07.2019  Rossiya               255             250  "
      ]
     },
     "execution_count": 37,
     "metadata": {},
     "output_type": "execute_result"
    }
   ],
   "source": [
    "df.query('Price > Price.mean()')"
   ]
  },
  {
   "cell_type": "code",
   "execution_count": null,
   "metadata": {},
   "outputs": [],
   "source": []
  }
 ],
 "metadata": {
  "kernelspec": {
   "display_name": "Python 3",
   "language": "python",
   "name": "python3"
  },
  "language_info": {
   "codemirror_mode": {
    "name": "ipython",
    "version": 3
   },
   "file_extension": ".py",
   "mimetype": "text/x-python",
   "name": "python",
   "nbconvert_exporter": "python",
   "pygments_lexer": "ipython3",
   "version": "3.7.6"
  }
 },
 "nbformat": 4,
 "nbformat_minor": 4
}
